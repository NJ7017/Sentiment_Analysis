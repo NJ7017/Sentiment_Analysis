{
 "cells": [
  {
   "cell_type": "code",
   "execution_count": 50,
   "metadata": {},
   "outputs": [],
   "source": [
    "import joblib\n",
    "import nltk\n",
    "import pandas as pd\n",
    "from nltk.corpus import stopwords\n",
    "from nltk import WordNetLemmatizer\n",
    "from nltk.stem import PorterStemmer\n",
    "\n",
    "loaded_model = joblib.load('sentiment_analysis_model.pkl')\n",
    "loaded_vect = joblib.load('count_vectorizer.pkl')\n",
    "loaded_tfidf = joblib.load('tfidf_transformer.pkl')"
   ]
  },
  {
   "cell_type": "code",
   "execution_count": 51,
   "metadata": {},
   "outputs": [],
   "source": [
    "import re\n",
    "def clean(raw):\n",
    "    \"\"\" Remove hyperlinks and markup \"\"\"\n",
    "    result = re.sub(\"<[a][^>]*>(.+?)</[a]>\", 'Link.', raw)\n",
    "    result = re.sub('&gt;', \"\", result)\n",
    "    result = re.sub('&#x27;', \"'\", result)\n",
    "    result = re.sub('&quot;', '\"', result)\n",
    "    result = re.sub('&#x2F;', ' ', result)\n",
    "    result = re.sub('<p>', ' ', result)\n",
    "    result = re.sub('</i>', '', result)\n",
    "    result = re.sub('&#62;', '', result)\n",
    "    result = re.sub('<i>', ' ', result)\n",
    "    result = re.sub(\"\\n\", '', result)\n",
    "    return result\n",
    "def remove_num(texts):\n",
    "   output = re.sub(r'\\d+', '', texts)\n",
    "   return output\n",
    "def deEmojify(x):\n",
    "    regrex_pattern = re.compile(pattern = \"[\"\n",
    "        u\"\\U0001F600-\\U0001F64F\"  # emoticons\n",
    "        u\"\\U0001F300-\\U0001F5FF\"  # symbols & pictographs\n",
    "        u\"\\U0001F680-\\U0001F6FF\"  # transport & map symbols\n",
    "        u\"\\U0001F1E0-\\U0001F1FF\"  # flags (iOS)\n",
    "                           \"]+\", flags = re.UNICODE)\n",
    "    return regrex_pattern.sub(r'', x)\n",
    "def unify_whitespaces(x):\n",
    "    cleaned_string = re.sub(' +', ' ', x)\n",
    "    return cleaned_string \n",
    "def remove_symbols(x):\n",
    "    cleaned_string = re.sub(r\"[^a-zA-Z0-9?!.,;:!]+\", ' ', x)\n",
    "    return cleaned_string\n",
    "def remove_punctuation(text):\n",
    "    final = \"\".join(u for u in text if u not in (\"?\", \".\", \";\", \":\",  \"!\",'\"',','))\n",
    "    return final\n",
    "\n",
    "stop=set(stopwords.words(\"english\"))\n",
    "stemmer=PorterStemmer()\n",
    "lemma=WordNetLemmatizer()\n",
    "\n",
    "def remove_stopword(text):\n",
    "   text=[word.lower() for word in text.split() if word.lower() not in stop]\n",
    "   return \" \".join(text)\n",
    "from nltk.corpus import stopwords\n",
    "from nltk.stem import SnowballStemmer\n",
    "def Stemming(text):\n",
    "   stem=[]\n",
    "   stopword = stopwords.words('english')\n",
    "   snowball_stemmer = SnowballStemmer('english')\n",
    "   word_tokens = nltk.word_tokenize(text)\n",
    "   stemmed_word = [snowball_stemmer.stem(word) for word in word_tokens]\n",
    "   stem=' '.join(stemmed_word)\n",
    "   return stem\n",
    "\n",
    "def cleaning(df, review_col):\n",
    "    df[review_col] = df[review_col].apply(clean)\n",
    "    df[review_col] = df[review_col].apply(deEmojify)\n",
    "    df[review_col] = df[review_col].str.lower()\n",
    "    df[review_col] = df[review_col].apply(remove_num)\n",
    "    df[review_col] = df[review_col].apply(remove_symbols)\n",
    "    df[review_col] = df[review_col].apply(remove_punctuation)\n",
    "    df[review_col] = df[review_col].apply(remove_stopword)\n",
    "    df[review_col] = df[review_col].apply(unify_whitespaces)\n",
    "    df[review_col] = df[review_col].apply(Stemming)\n",
    "    return df\n"
   ]
  },
  {
   "cell_type": "code",
   "execution_count": 60,
   "metadata": {},
   "outputs": [],
   "source": [
    "def predict_sentiment(review_text):\n",
    "    # Preprocess the review text\n",
    "    df = pd.DataFrame({'review':[review_text]})\n",
    "    df = cleaning(df, 'review')\n",
    "    review_text = df['review'].iloc[0]  # Extract preprocessed review text\n",
    "    \n",
    "    # Vectorize and transform the preprocessed text\n",
    "    text_vectorized = loaded_vect.transform([review_text])\n",
    "    text_tfidf = loaded_tfidf.transform(text_vectorized)\n",
    "\n",
    "    # Predict sentiment\n",
    "    sentiment = loaded_model.predict(text_tfidf)\n",
    "\n",
    "    return \"Positive\" if sentiment[0] == 1 else \"Negative\""
   ]
  },
  {
   "cell_type": "code",
   "execution_count": 62,
   "metadata": {},
   "outputs": [
    {
     "name": "stdout",
     "output_type": "stream",
     "text": [
      "Sample Review: This game is amazing! I love the graphics and gameplay.\n",
      "Predicted Sentiment: Positive\n"
     ]
    }
   ],
   "source": [
    "sample_review = \"This game is amazing! I love the graphics and gameplay.\"\n",
    "print(\"Sample Review:\", sample_review)\n",
    "print(\"Predicted Sentiment:\", predict_sentiment(sample_review))"
   ]
  },
  {
   "cell_type": "code",
   "execution_count": 63,
   "metadata": {},
   "outputs": [
    {
     "name": "stdout",
     "output_type": "stream",
     "text": [
      "\n",
      "Sample Review: This was a very disappointing game\n",
      "Predicted Sentiment: Negative\n"
     ]
    }
   ],
   "source": [
    "sample_review2 = \"This was a very disappointing game\"\n",
    "print(\"\\nSample Review:\", sample_review2)\n",
    "print(\"Predicted Sentiment:\", predict_sentiment(sample_review2))"
   ]
  },
  {
   "cell_type": "code",
   "execution_count": null,
   "metadata": {},
   "outputs": [],
   "source": []
  }
 ],
 "metadata": {
  "kernelspec": {
   "display_name": "cognitive",
   "language": "python",
   "name": "python3"
  },
  "language_info": {
   "codemirror_mode": {
    "name": "ipython",
    "version": 3
   },
   "file_extension": ".py",
   "mimetype": "text/x-python",
   "name": "python",
   "nbconvert_exporter": "python",
   "pygments_lexer": "ipython3",
   "version": "3.12.2"
  }
 },
 "nbformat": 4,
 "nbformat_minor": 2
}
